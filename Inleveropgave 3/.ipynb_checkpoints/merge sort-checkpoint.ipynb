{
 "cells": [
  {
   "cell_type": "code",
   "execution_count": 10,
   "metadata": {},
   "outputs": [],
   "source": [
    "from typing import List\n",
    "import threading"
   ]
  },
  {
   "cell_type": "code",
   "execution_count": 2,
   "metadata": {},
   "outputs": [],
   "source": [
    "def merge_sort(xs: List[int]) -> None:\n",
    "    \"\"\"In place merge sort of array without recursive. The basic idea\n",
    "    is to avoid the recursive call while using iterative solution.\n",
    "    The algorithm first merge chunk of length of 2, then merge chunks\n",
    "    of length 4, then 8, 16, .... , until 2^k where 2^k is large than\n",
    "    the length of the array\n",
    "    \"\"\"\n",
    "\n",
    "    unit = 1\n",
    "    while unit <= len(xs):\n",
    "        h = 0\n",
    "        for h in range(0, len(xs), unit * 2):\n",
    "            l, r = h, min(len(xs), h + 2 * unit)\n",
    "            mid = h + unit\n",
    "            # merge xs[h:h + 2 * unit]\n",
    "            p, q = l, mid\n",
    "            while p < mid and q < r:\n",
    "                # use <= for stable merge merge\n",
    "                if xs[p] <= xs[q]:\n",
    "                    p += 1\n",
    "                else:\n",
    "                    tmp = xs[q]\n",
    "                    xs[p + 1: q + 1] = xs[p:q]\n",
    "                    xs[p] = tmp\n",
    "                    p, mid, q = p + 1, mid + 1, q + 1\n",
    "\n",
    "        unit *= 2"
   ]
  },
  {
   "cell_type": "code",
   "execution_count": 3,
   "metadata": {},
   "outputs": [],
   "source": [
    "def merge_arrays(array1: List[int], array2: List[int]) -> List[int]:\n",
    "    \"\"\"Recursively merge two arrays into one sorted array\"\"\"\n",
    "    if len(array1) == len(array2) == 0: # done when both arrays are empty\n",
    "        return []\n",
    "    else:\n",
    "        if len(array1) == 0: # if either array is empty\n",
    "            head, *tail = array2\n",
    "            return [head] + merge_arrays(array1, tail) # merge the remainder of the non-empty list\n",
    "        elif len(array2) == 0: # idem for the other array\n",
    "            head, *tail = array1\n",
    "            return [head] + merge_arrays(tail, array2)\n",
    "        else: # when both still have elements\n",
    "            head1, *tail1 = array1\n",
    "            head2, *tail2 = array2\n",
    "            if head1 < head2: # select the smallest\n",
    "                return [head1] + merge_arrays(tail1, array2) # and merge with the remainder\n",
    "            else:\n",
    "                return [head2] + merge_arrays(array1, tail2) # idem for when array 2 had the smaller element\n",
    "\n",
    "\n",
    "def recursive_merge_sort(data: List[int]) -> List[int]:\n",
    "    \"\"\"Recursive merge sort implementation for sorting arrays\"\"\"\n",
    "    if len(data) == 1: # arrays with 1 element are sorted\n",
    "        return data\n",
    "    else:\n",
    "        middle = int(len(data)/2) # find the middle (round down if len(data) is odd)\n",
    "        first, second = data[:middle], data[middle:] # split the list in half\n",
    "        return merge_arrays(recursive_merge_sort(first), recursive_merge_sort(second)) # merge_sort both arrays, and merge them into the result"
   ]
  },
  {
   "cell_type": "code",
   "execution_count": 9,
   "metadata": {},
   "outputs": [
    {
     "name": "stderr",
     "output_type": "stream",
     "text": [
      "16:52:54: Main    : before creating thread\n",
      "16:52:54: Main    : before running thread\n",
      "16:52:54: Thread 1: starting\n",
      "16:52:54: Main    : wait for the thread to finish\n",
      "16:52:54: Main    : all done\n",
      "16:52:56: Thread 1: finishing\n"
     ]
    }
   ],
   "source": [
    "import logging\n",
    "import threading\n",
    "import time\n",
    "\n",
    "def thread_function(name):\n",
    "    logging.info(\"Thread %s: starting\", name)\n",
    "    time.sleep(2) # wait for 2 seconds\n",
    "    logging.info(\"Thread %s: finishing\", name)\n",
    "\n",
    "if __name__ == \"__main__\":\n",
    "    format = \"%(asctime)s: %(message)s\"\n",
    "    logging.basicConfig(format=format, level=logging.INFO,\n",
    "                        datefmt=\"%H:%M:%S\")\n",
    "\n",
    "    logging.info(\"Main    : before creating thread\")\n",
    "    x = threading.Thread(target=thread_function, args=(1,))\n",
    "    logging.info(\"Main    : before running thread\")\n",
    "    x.start()\n",
    "    logging.info(\"Main    : wait for the thread to finish\")\n",
    "#     x.join()\n",
    "    logging.info(\"Main    : all done\")"
   ]
  },
  {
   "cell_type": "code",
   "execution_count": null,
   "metadata": {},
   "outputs": [],
   "source": []
  }
 ],
 "metadata": {
  "kernelspec": {
   "display_name": "Python 3",
   "language": "python",
   "name": "python3"
  },
  "language_info": {
   "codemirror_mode": {
    "name": "ipython",
    "version": 3
   },
   "file_extension": ".py",
   "mimetype": "text/x-python",
   "name": "python",
   "nbconvert_exporter": "python",
   "pygments_lexer": "ipython3",
   "version": "3.7.6"
  }
 },
 "nbformat": 4,
 "nbformat_minor": 4
}
