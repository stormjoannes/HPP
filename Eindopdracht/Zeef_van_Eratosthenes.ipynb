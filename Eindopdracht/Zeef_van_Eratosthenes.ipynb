{
 "cells": [
  {
   "cell_type": "code",
   "execution_count": 1,
   "metadata": {},
   "outputs": [],
   "source": [
    "import time"
   ]
  },
  {
   "cell_type": "code",
   "execution_count": 2,
   "metadata": {},
   "outputs": [],
   "source": [
    "def priemgetal(threshold):\n",
    "    k = 2\n",
    "    getallen = [i for i in range(2, threshold + 1)]\n",
    "    priem = [True for i in range(2, threshold + 1)]\n",
    "    \n",
    "    while k**2 <= threshold:\n",
    "        # Check of getal een priem getal is of niet.\n",
    "        for index, x in enumerate(getallen):\n",
    "            if x % k == 0 and x != k:\n",
    "                priem[index] = False\n",
    "                    \n",
    "        # Vind het kleinste nummer waarvan priem nog True is maar groter is dan het laatste getal.\n",
    "        for index, y in enumerate(getallen):\n",
    "            if priem[index] == True and y > k:\n",
    "                k = y\n",
    "                break\n",
    "    return getallen, priem"
   ]
  },
  {
   "cell_type": "code",
   "execution_count": 3,
   "metadata": {},
   "outputs": [],
   "source": [
    "def check_priemgetal(priemgetallen, amount):\n",
    "    priem_getallen_check = [4, 25, 168, 1229, 9592, 78498]\n",
    "    \n",
    "    if priem_getallen_check[len(str(amount)) - 2] == priemgetallen.count(True):\n",
    "        return 'Function passed!'\n",
    "    else:\n",
    "        return 'Function failed!'"
   ]
  },
  {
   "cell_type": "code",
   "execution_count": 4,
   "metadata": {
    "scrolled": false
   },
   "outputs": [
    {
     "name": "stdout",
     "output_type": "stream",
     "text": [
      "Function passed!\n",
      "Time in seconds: 0.3670172691345215 with 99999 numbers\n"
     ]
    }
   ],
   "source": [
    "amount = 100000\n",
    "\n",
    "begin_time = time.time()\n",
    "priemgetallen = priemgetal(amount)\n",
    "end_time = time.time()\n",
    "runTime = end_time - begin_time\n",
    "\n",
    "print(check_priemgetal(priemgetallen[1], amount))\n",
    "\n",
    "print(f\"Time in seconds: {runTime} with {len(priemgetallen[1])} numbers\")"
   ]
  }
 ],
 "metadata": {
  "kernelspec": {
   "display_name": "Python 3",
   "language": "python",
   "name": "python3"
  },
  "language_info": {
   "codemirror_mode": {
    "name": "ipython",
    "version": 3
   },
   "file_extension": ".py",
   "mimetype": "text/x-python",
   "name": "python",
   "nbconvert_exporter": "python",
   "pygments_lexer": "ipython3",
   "version": "3.7.6"
  }
 },
 "nbformat": 4,
 "nbformat_minor": 4
}
