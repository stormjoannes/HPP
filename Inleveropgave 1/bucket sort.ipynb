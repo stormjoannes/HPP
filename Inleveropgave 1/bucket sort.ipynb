{
 "cells": [
  {
   "cell_type": "code",
   "execution_count": 1,
   "metadata": {},
   "outputs": [],
   "source": [
    "import random"
   ]
  },
  {
   "cell_type": "markdown",
   "metadata": {},
   "source": [
    "List maken met len van 5 en random numbers vanaf 0 t/m 999."
   ]
  },
  {
   "cell_type": "code",
   "execution_count": 2,
   "metadata": {},
   "outputs": [
    {
     "name": "stdout",
     "output_type": "stream",
     "text": [
      "Unsorted list:  [-447, 174, 378, -408, -268, -286, 339, -742, -932, 450]\n"
     ]
    }
   ],
   "source": [
    "shuffledList = []\n",
    "for i in range(0,10):\n",
    "    n = random.randint(-999,999)\n",
    "    shuffledList.append(n)\n",
    "print(\"Unsorted list: \", shuffledList)"
   ]
  },
  {
   "cell_type": "markdown",
   "metadata": {},
   "source": [
    "Aanmaken van lijsten met positieve getallen en negatieve getallen, negatieve getallen ook positief maken voor de sort"
   ]
  },
  {
   "cell_type": "code",
   "execution_count": 3,
   "metadata": {},
   "outputs": [],
   "source": [
    "shuffledListPosi = []\n",
    "shuffledListNega = []\n",
    "for i in shuffledList:\n",
    "    if i < 0:\n",
    "        shuffledListNega.append(i * -1)\n",
    "    else:\n",
    "        shuffledListPosi.append(i)"
   ]
  },
  {
   "cell_type": "markdown",
   "metadata": {},
   "source": [
    "Aanmaken variabele met de lengte van de het grootste getal uit de random generated list."
   ]
  },
  {
   "cell_type": "code",
   "execution_count": 4,
   "metadata": {},
   "outputs": [],
   "source": [
    "#Als de lijst leeg is zet je de lengte van de grootste op 0\n",
    "lenLongestNumPosi = len(str(max(shuffledListPosi))) if len(shuffledListPosi) > 0 else 0\n",
    "lenLongestNumNega = len(str(max(shuffledListNega))) if len(shuffledListNega) > 0 else 0"
   ]
  },
  {
   "cell_type": "markdown",
   "metadata": {},
   "source": [
    "For loop waarin ik door de shuffledList loop om ze te sorteren."
   ]
  },
  {
   "cell_type": "code",
   "execution_count": 5,
   "metadata": {},
   "outputs": [],
   "source": [
    "def sortList(shuffledList, lenLongestNum):\n",
    "    #Aantal passes is de lengte van het grootse getal.\n",
    "    for passes in range (lenLongestNum):\n",
    "        #List maken met 10 lege lists.\n",
    "        sortList = [[] for i in range(10)]\n",
    "\n",
    "        #loopen door de random generated list.\n",
    "        for i in shuffledList:\n",
    "            #Als een getal kleiner is dan het grootste getal zal de index onder 0 komen.\n",
    "            if len(str(i)) - (passes + 1) >= 0:\n",
    "                sortList[int(str(i)[len(str(i)) - (passes + 1)])].append(i)\n",
    "            else:\n",
    "                sortList[0].append(i)\n",
    "\n",
    "        #Legen van de lijst en het vullen met de eerste pass\n",
    "        shuffledList.clear()\n",
    "        for x in sortList:\n",
    "            shuffledList.extend(x)\n",
    "    return (shuffledList)"
   ]
  },
  {
   "cell_type": "markdown",
   "metadata": {},
   "source": [
    "Aanroepen van functies en samenvoegen van lijsten."
   ]
  },
  {
   "cell_type": "code",
   "execution_count": 6,
   "metadata": {
    "scrolled": true
   },
   "outputs": [
    {
     "name": "stdout",
     "output_type": "stream",
     "text": [
      "Sorted list:  [-932, -742, -447, -408, -286, -268, 174, 339, 378, 450]\n"
     ]
    }
   ],
   "source": [
    "sortedPosi = sortList(shuffledListPosi, lenLongestNumPosi)\n",
    "sortedNega = sortList(shuffledListNega, lenLongestNumNega)\n",
    "\n",
    "#Terug negatief maken van de list\n",
    "sortedNega = [-x for x in sortedNega]\n",
    "sortedNega.reverse()\n",
    "\n",
    "#Samenvoegen van Negatieven list en Positieven list\n",
    "sortedNega.extend(sortedPosi)\n",
    "print(\"Sorted list: \", sortedNega)"
   ]
  },
  {
   "cell_type": "code",
   "execution_count": null,
   "metadata": {},
   "outputs": [],
   "source": []
  }
 ],
 "metadata": {
  "kernelspec": {
   "display_name": "Python 3",
   "language": "python",
   "name": "python3"
  },
  "language_info": {
   "codemirror_mode": {
    "name": "ipython",
    "version": 3
   },
   "file_extension": ".py",
   "mimetype": "text/x-python",
   "name": "python",
   "nbconvert_exporter": "python",
   "pygments_lexer": "ipython3",
   "version": "3.7.6"
  }
 },
 "nbformat": 4,
 "nbformat_minor": 4
}
