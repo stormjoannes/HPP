{
 "cells": [
  {
   "cell_type": "markdown",
   "metadata": {},
   "source": [
    "## Bucket sort "
   ]
  },
  {
   "cell_type": "code",
   "execution_count": 1,
   "metadata": {},
   "outputs": [],
   "source": [
    "import random\n",
    "import time\n",
    "import matplotlib.pyplot as plt"
   ]
  },
  {
   "cell_type": "markdown",
   "metadata": {},
   "source": [
    "List maken met len van 5 en random numbers vanaf 0 t/m 999."
   ]
  },
  {
   "cell_type": "code",
   "execution_count": 2,
   "metadata": {},
   "outputs": [],
   "source": [
    "def list_generator(lenList):\n",
    "    \"\"\"\n",
    "    Vullen van lijst met meegegeven lengte.\n",
    "    Waardes zitten tussen de -1000 en 1000.\n",
    "    \"\"\"\n",
    "    shuffledList = []\n",
    "    for i in range(lenList):\n",
    "        n = random.randint(-999,999)\n",
    "        shuffledList.append(n)\n",
    "    return shuffledList"
   ]
  },
  {
   "cell_type": "code",
   "execution_count": 3,
   "metadata": {},
   "outputs": [],
   "source": [
    "shuffledList = list_generator(10)"
   ]
  },
  {
   "cell_type": "markdown",
   "metadata": {},
   "source": [
    "Aanmaken van lijsten met positieve getallen en negatieve getallen, negatieve getallen ook positief maken voor de sort"
   ]
  },
  {
   "cell_type": "code",
   "execution_count": 4,
   "metadata": {},
   "outputs": [],
   "source": [
    "def split_list(shuffledList):\n",
    "    \"\"\"\n",
    "    Splitten van lijst in negatieve lijst en een positieve lijst.\n",
    "    \n",
    "    \"\"\"\n",
    "    shuffledListPosi = []\n",
    "    shuffledListNega = []\n",
    "    for i in shuffledList:\n",
    "        if i < 0:\n",
    "            shuffledListNega.append(i * -1)\n",
    "        else:\n",
    "            shuffledListPosi.append(i)\n",
    "    return shuffledListPosi, shuffledListNega"
   ]
  },
  {
   "cell_type": "markdown",
   "metadata": {},
   "source": [
    "For loop waarin ik door de shuffledList loop om ze te sorteren."
   ]
  },
  {
   "cell_type": "code",
   "execution_count": 5,
   "metadata": {},
   "outputs": [],
   "source": [
    "def bucket_sort(shuffledList, lenLongestNum):\n",
    "    \"\"\"\n",
    "    Functie die de lijst sorteert door middel van de bucket sort.\n",
    "    \"\"\"\n",
    "    #Aantal passes is de lengte van het grootse getal.\n",
    "    for passes in range (lenLongestNum):\n",
    "        #List maken met 10 lege lists.\n",
    "        sortList = [[] for i in range(10)]\n",
    "\n",
    "        #loopen door de random generated list.\n",
    "        for i in shuffledList:\n",
    "            #Als een getal kleiner is dan het grootste getal zal de index onder 0 komen.\n",
    "            if len(str(i)) - (passes + 1) >= 0:\n",
    "                sortList[int(str(i)[len(str(i)) - (passes + 1)])].append(i)\n",
    "            else:\n",
    "                sortList[0].append(i)\n",
    "\n",
    "        #Legen van de lijst en het vullen met de eerste pass\n",
    "        shuffledList.clear()\n",
    "        for x in sortList:\n",
    "            shuffledList.extend(x)\n",
    "    return shuffledList"
   ]
  },
  {
   "cell_type": "markdown",
   "metadata": {},
   "source": [
    "Aanroepen van functies en samenvoegen van lijsten."
   ]
  },
  {
   "cell_type": "code",
   "execution_count": 6,
   "metadata": {
    "scrolled": true
   },
   "outputs": [],
   "source": [
    "def sort_list(shuffledListPosi, shuffledListNega):\n",
    "    \"\"\"\n",
    "    Aanroepen van de functies en een resultaat maken hiervan.\n",
    "    \"\"\"\n",
    "    #aanmaken variabelen lengte van grootste getal, lijst leeg is 0\n",
    "    lenLongestNumPosi = len(str(max(shuffledListPosi))) if len(shuffledListPosi) > 0 else 0\n",
    "    lenLongestNumNega = len(str(max(shuffledListNega))) if len(shuffledListNega) > 0 else 0\n",
    "    \n",
    "    sortedPosi = bucket_sort(shuffledListPosi, lenLongestNumPosi)\n",
    "    sortedNega = bucket_sort(shuffledListNega, lenLongestNumNega)\n",
    "\n",
    "    #Terug negatief maken van de list\n",
    "    sortedNega = [-x for x in sortedNega]\n",
    "    sortedNega.reverse()\n",
    "\n",
    "    #Samenvoegen van Negatieven list en Positieven list\n",
    "    sortedNega.extend(sortedPosi)\n",
    "    return  sortedNega"
   ]
  },
  {
   "cell_type": "code",
   "execution_count": 7,
   "metadata": {},
   "outputs": [],
   "source": [
    "def calc_time(posiList , negaList):\n",
    "    \"\"\"\n",
    "    Berekenen van tijdsduur door middel van begintijd en eindtijd van het proces.\n",
    "    \"\"\"\n",
    "    beginTime = time.time()\n",
    "    \n",
    "    sort_list(posiList, negaList)\n",
    "    \n",
    "    endTime = time.time()\n",
    "    return endTime - beginTime"
   ]
  },
  {
   "cell_type": "code",
   "execution_count": 8,
   "metadata": {},
   "outputs": [
    {
     "data": {
      "text/plain": [
       "0.0"
      ]
     },
     "execution_count": 8,
     "metadata": {},
     "output_type": "execute_result"
    }
   ],
   "source": [
    "#geef gesplitste lijst mee aan sort list\n",
    "splittedLists = split_list(shuffledList)\n",
    "calc_time(splittedLists[0] ,splittedLists[1])\n",
    "# sort_list(splittedLists[0] ,splittedLists[1])"
   ]
  },
  {
   "cell_type": "markdown",
   "metadata": {},
   "source": [
    "__De runtime complexiteit__ "
   ]
  },
  {
   "cell_type": "code",
   "execution_count": 9,
   "metadata": {},
   "outputs": [],
   "source": [
    "def generate_lists():\n",
    "    \"\"\"\n",
    "    Maken van een lijst met daarin 3 random lists van lengte 1.000, 10.000, 30.000\n",
    "    \"\"\"\n",
    "    lenghtslist, random_lijst = [1000, 10000, 30000], []\n",
    "\n",
    "    for i in lenghtslist:\n",
    "        shuffledList = list_generator(i)\n",
    "        random_lijst.append(shuffledList)\n",
    "    return random_lijst"
   ]
  },
  {
   "cell_type": "code",
   "execution_count": 10,
   "metadata": {},
   "outputs": [],
   "source": [
    "def test_runtime(random_lijst):\n",
    "    \"\"\"\n",
    "    Vullen van dictionary met daarin de runtime voor iedere soort lengte lijst.\n",
    "    \"\"\"\n",
    "    times = {}\n",
    "    for i in range(len(random_lijst)):\n",
    "        splittedLists = split_list(shuffledList)\n",
    "        time = (calc_time(splittedLists[0] ,splittedLists[1]))\n",
    "        times[len(random_lijst[i])] = time\n",
    "    return times"
   ]
  },
  {
   "cell_type": "markdown",
   "metadata": {},
   "source": [
    "bucket sort runnen met random lijsten"
   ]
  },
  {
   "cell_type": "code",
   "execution_count": 11,
   "metadata": {},
   "outputs": [
    {
     "name": "stdout",
     "output_type": "stream",
     "text": [
      "{1000: 0.0009696483612060547, 10000: 0.0, 30000: 0.0}\n"
     ]
    }
   ],
   "source": [
    "lijst = generate_lists()\n",
    "dictTime = test_runtime(lijst)\n",
    "print(dictTime)"
   ]
  },
  {
   "cell_type": "markdown",
   "metadata": {},
   "source": [
    "plot de tijd voor het sorteren van de 3 lijsten"
   ]
  },
  {
   "cell_type": "code",
   "execution_count": 12,
   "metadata": {
    "scrolled": true
   },
   "outputs": [
    {
     "data": {
      "image/png": "[encoded data removed]",
      "text/plain": [
       "<Figure size 432x288 with 1 Axes>"
      ]
     },
     "metadata": {
      "needs_background": "light"
     },
     "output_type": "display_data"
    },
    {
     "name": "stdout",
     "output_type": "stream",
     "text": [
      "[(1000, 0.0009696483612060547), (10000, 0.0), (30000, 0.0)]\n"
     ]
    }
   ],
   "source": [
    "plt.plot(list(dictTime.keys()), list(dictTime.values()))\n",
    "plt.ylabel('time in seconds')\n",
    "plt.xlabel('lengte van de lijst')\n",
    "plt.show()\n",
    "print(list(dictTime.items()))"
   ]
  },
  {
   "cell_type": "markdown",
   "metadata": {},
   "source": [
    "bucket sort runnen met dezelfde random lijsten maar dan reversed"
   ]
  },
  {
   "cell_type": "code",
   "execution_count": 13,
   "metadata": {},
   "outputs": [
    {
     "name": "stdout",
     "output_type": "stream",
     "text": [
      "{1000: 0.0, 10000: 0.0, 30000: 0.0}\n"
     ]
    }
   ],
   "source": [
    "dictTimeRev = test_runtime([i[::-1] for i in lijst])\n",
    "print(dictTimeRev)"
   ]
  },
  {
   "cell_type": "code",
   "execution_count": 14,
   "metadata": {
    "scrolled": true
   },
   "outputs": [
    {
     "data": {
      "image/png": "[encoded data removed]",
      "text/plain": [
       "<Figure size 432x288 with 1 Axes>"
      ]
     },
     "metadata": {
      "needs_background": "light"
     },
     "output_type": "display_data"
    },
    {
     "name": "stdout",
     "output_type": "stream",
     "text": [
      "[(1000, 0.0), (10000, 0.0), (30000, 0.0)]\n"
     ]
    }
   ],
   "source": [
    "plt.plot(list(dictTimeRev.keys()), list(dictTimeRev.values()))\n",
    "plt.ylabel('time in seconds')\n",
    "plt.xlabel('lengte van de lijst')\n",
    "plt.show()\n",
    "print(list(dictTimeRev.items()))"
   ]
  },
  {
   "cell_type": "markdown",
   "metadata": {},
   "source": [
    "Conclusie:\n",
    "Het maakt niet heel erg veel uit hoe een lijst er uit ziet want de complexiteit van het algoritme blijft ongeveer linear."
   ]
  },
  {
   "cell_type": "markdown",
   "metadata": {},
   "source": [
    "__Ruimte analyse__"
   ]
  },
  {
   "cell_type": "markdown",
   "metadata": {},
   "source": [
    "random generated list wordt opgesplitst in een lijst van positieven en een lijst van negatieven getallen en dat is 2N.\n",
    "Van deze 2 lijsten worden de lengte van de grootste getallen gepakt, dit is ook 2N. Dit heb je nodig om te weten hoevaak je moet loopen en dat is een K.\n",
    "Dan worden de twee lijsten apart gesorteerd door de bucket sort, dit is NK. \n",
    "Vervolgens worden de lijsten gemerged en dat is een N.\n",
    "\n",
    "\n",
    "\n",
    "Ofterwijl best case scenario is O(2N+2N+K+NK+N) = O(5N+K+NK)\n"
   ]
  },
  {
   "cell_type": "markdown",
   "metadata": {},
   "source": [
    "De wors case is in dit geval nog afhankelijk van de len van de langste getal en bijvoorbeld of er nog positieven en negatieve getallen in de lijst zitten. "
   ]
  },
  {
   "cell_type": "markdown",
   "metadata": {},
   "source": [
    "Volgens mij is dit algotitme best linear. Dat kunnen we concluderen op basis van de tijd analyse. \n",
    "In Big O notatie is dit een O(n)"
   ]
  }
 ],
 "metadata": {
  "kernelspec": {
   "display_name": "Python 3",
   "language": "python",
   "name": "python3"
  },
  "language_info": {
   "codemirror_mode": {
    "name": "ipython",
    "version": 3
   },
   "file_extension": ".py",
   "mimetype": "text/x-python",
   "name": "python",
   "nbconvert_exporter": "python",
   "pygments_lexer": "ipython3",
   "version": "3.7.6"
  }
 },
 "nbformat": 4,
 "nbformat_minor": 4
}
